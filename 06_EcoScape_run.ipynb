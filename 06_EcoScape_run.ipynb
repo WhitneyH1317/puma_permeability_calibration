{
  "cells": [
    {
      "cell_type": "markdown",
      "metadata": {
        "id": "view-in-github",
        "colab_type": "text"
      },
      "source": [
        "<a href=\"https://colab.research.google.com/github/WhitneyH1317/puma_permeability_calibration/blob/main/06_EcoScape_run.ipynb\" target=\"_parent\"><img src=\"https://colab.research.google.com/assets/colab-badge.svg\" alt=\"Open In Colab\"/></a>"
      ]
    },
    {
      "cell_type": "markdown",
      "source": [
        "## Prepare working environment"
      ],
      "metadata": {
        "id": "wIlEsjdPvhP4"
      }
    },
    {
      "cell_type": "code",
      "execution_count": 2,
      "metadata": {
        "id": "139IUfw-urcR"
      },
      "outputs": [],
      "source": [
        "import os\n",
        "import glob\n"
      ]
    },
    {
      "cell_type": "code",
      "source": [
        "# Install git-lfs and clone your repo\n",
        "!curl -s https://packagecloud.io/install/repositories/github/git-lfs/script.deb.sh | sudo bash\n",
        "!sudo apt-get install git-lfs\n",
        "!git lfs install\n",
        "\n",
        "# Clone GitHub repo (replace YourUser and your-repo if you fork repo to your own account)\n",
        "!git clone https://github.com/WhitneyH1317/puma_permeability_calibration.git\n",
        "%cd puma_permeability_calibration\n",
        "\n",
        "# Pull large files managed by Git LFS\n",
        "!git lfs pull"
      ],
      "metadata": {
        "colab": {
          "base_uri": "https://localhost:8080/"
        },
        "id": "KbCLPc_TxzDz",
        "outputId": "f0e43f72-8821-45e8-95d0-0706f66c2268"
      },
      "execution_count": 3,
      "outputs": [
        {
          "output_type": "stream",
          "name": "stdout",
          "text": [
            "Detected operating system as Ubuntu/jammy.\n",
            "Checking for curl...\n",
            "Detected curl...\n",
            "Checking for gpg...\n",
            "Detected gpg...\n",
            "Detected apt version as 2.4.14\n",
            "Running apt-get update... done.\n",
            "Installing apt-transport-https... done.\n",
            "Installing /etc/apt/sources.list.d/github_git-lfs.list...done.\n",
            "Importing packagecloud gpg key... Packagecloud gpg key imported to /etc/apt/keyrings/github_git-lfs-archive-keyring.gpg\n",
            "done.\n",
            "Running apt-get update... done.\n",
            "\n",
            "The repository is setup! You can now install packages.\n",
            "Reading package lists... Done\n",
            "Building dependency tree... Done\n",
            "Reading state information... Done\n",
            "The following packages will be upgraded:\n",
            "  git-lfs\n",
            "1 upgraded, 0 newly installed, 0 to remove and 39 not upgraded.\n",
            "Need to get 8,917 kB of archives.\n",
            "After this operation, 8,712 kB of additional disk space will be used.\n",
            "Get:1 https://packagecloud.io/github/git-lfs/ubuntu jammy/main amd64 git-lfs amd64 3.7.0 [8,917 kB]\n",
            "Fetched 8,917 kB in 1s (8,796 kB/s)\n",
            "debconf: unable to initialize frontend: Dialog\n",
            "debconf: (No usable dialog-like program is installed, so the dialog based frontend cannot be used. at /usr/share/perl5/Debconf/FrontEnd/Dialog.pm line 78, <> line 1.)\n",
            "debconf: falling back to frontend: Readline\n",
            "debconf: unable to initialize frontend: Readline\n",
            "debconf: (This frontend requires a controlling tty.)\n",
            "debconf: falling back to frontend: Teletype\n",
            "dpkg-preconfigure: unable to re-open stdin: \n",
            "(Reading database ... 126445 files and directories currently installed.)\n",
            "Preparing to unpack .../git-lfs_3.7.0_amd64.deb ...\n",
            "Unpacking git-lfs (3.7.0) over (3.0.2-1ubuntu0.3) ...\n",
            "Setting up git-lfs (3.7.0) ...\n",
            "Git LFS initialized.\n",
            "Processing triggers for man-db (2.10.2-1) ...\n",
            "Git LFS initialized.\n",
            "Cloning into 'puma_permeability_calibration'...\n",
            "remote: Enumerating objects: 116, done.\u001b[K\n",
            "remote: Counting objects: 100% (116/116), done.\u001b[K\n",
            "remote: Compressing objects: 100% (81/81), done.\u001b[K\n",
            "remote: Total 116 (delta 45), reused 92 (delta 30), pack-reused 0 (from 0)\u001b[K\n",
            "Receiving objects: 100% (116/116), 6.55 MiB | 23.77 MiB/s, done.\n",
            "Resolving deltas: 100% (45/45), done.\n",
            "Filtering content: 100% (18/18), 288.02 MiB | 29.80 MiB/s, done.\n",
            "/content/puma_permeability_calibration\n"
          ]
        }
      ]
    },
    {
      "cell_type": "code",
      "execution_count": 4,
      "metadata": {
        "colab": {
          "base_uri": "https://localhost:8080/"
        },
        "id": "9pUpxMaNwKsu",
        "outputId": "ecd8b466-83f1-4095-e15d-919ca8daa9db"
      },
      "outputs": [
        {
          "output_type": "stream",
          "name": "stdout",
          "text": [
            "Collecting ecoscape-connectivity\n",
            "  Downloading ecoscape_connectivity-0.2.5-py3-none-any.whl.metadata (16 kB)\n",
            "Requirement already satisfied: numpy>=1.20.3 in /usr/local/lib/python3.12/dist-packages (from ecoscape-connectivity) (2.0.2)\n",
            "Collecting scgt>=0.0.32 (from ecoscape-connectivity)\n",
            "  Downloading scgt-0.0.32-py3-none-any.whl.metadata (3.0 kB)\n",
            "Requirement already satisfied: torch>=1.10.2 in /usr/local/lib/python3.12/dist-packages (from ecoscape-connectivity) (2.8.0+cu126)\n",
            "Requirement already satisfied: GDAL>=3.0.0 in /usr/local/lib/python3.12/dist-packages (from scgt>=0.0.32->ecoscape-connectivity) (3.8.4)\n",
            "Requirement already satisfied: matplotlib>=3.5.3 in /usr/local/lib/python3.12/dist-packages (from scgt>=0.0.32->ecoscape-connectivity) (3.10.0)\n",
            "Collecting rasterio>=1.2.10 (from scgt>=0.0.32->ecoscape-connectivity)\n",
            "  Downloading rasterio-1.4.3-cp312-cp312-manylinux_2_17_x86_64.manylinux2014_x86_64.whl.metadata (9.1 kB)\n",
            "Requirement already satisfied: scipy>=1.7.3 in /usr/local/lib/python3.12/dist-packages (from scgt>=0.0.32->ecoscape-connectivity) (1.16.2)\n",
            "Requirement already satisfied: filelock in /usr/local/lib/python3.12/dist-packages (from torch>=1.10.2->ecoscape-connectivity) (3.19.1)\n",
            "Requirement already satisfied: typing-extensions>=4.10.0 in /usr/local/lib/python3.12/dist-packages (from torch>=1.10.2->ecoscape-connectivity) (4.15.0)\n",
            "Requirement already satisfied: setuptools in /usr/local/lib/python3.12/dist-packages (from torch>=1.10.2->ecoscape-connectivity) (75.2.0)\n",
            "Requirement already satisfied: sympy>=1.13.3 in /usr/local/lib/python3.12/dist-packages (from torch>=1.10.2->ecoscape-connectivity) (1.13.3)\n",
            "Requirement already satisfied: networkx in /usr/local/lib/python3.12/dist-packages (from torch>=1.10.2->ecoscape-connectivity) (3.5)\n",
            "Requirement already satisfied: jinja2 in /usr/local/lib/python3.12/dist-packages (from torch>=1.10.2->ecoscape-connectivity) (3.1.6)\n",
            "Requirement already satisfied: fsspec in /usr/local/lib/python3.12/dist-packages (from torch>=1.10.2->ecoscape-connectivity) (2025.3.0)\n",
            "Requirement already satisfied: nvidia-cuda-nvrtc-cu12==12.6.77 in /usr/local/lib/python3.12/dist-packages (from torch>=1.10.2->ecoscape-connectivity) (12.6.77)\n",
            "Requirement already satisfied: nvidia-cuda-runtime-cu12==12.6.77 in /usr/local/lib/python3.12/dist-packages (from torch>=1.10.2->ecoscape-connectivity) (12.6.77)\n",
            "Requirement already satisfied: nvidia-cuda-cupti-cu12==12.6.80 in /usr/local/lib/python3.12/dist-packages (from torch>=1.10.2->ecoscape-connectivity) (12.6.80)\n",
            "Requirement already satisfied: nvidia-cudnn-cu12==9.10.2.21 in /usr/local/lib/python3.12/dist-packages (from torch>=1.10.2->ecoscape-connectivity) (9.10.2.21)\n",
            "Requirement already satisfied: nvidia-cublas-cu12==12.6.4.1 in /usr/local/lib/python3.12/dist-packages (from torch>=1.10.2->ecoscape-connectivity) (12.6.4.1)\n",
            "Requirement already satisfied: nvidia-cufft-cu12==11.3.0.4 in /usr/local/lib/python3.12/dist-packages (from torch>=1.10.2->ecoscape-connectivity) (11.3.0.4)\n",
            "Requirement already satisfied: nvidia-curand-cu12==10.3.7.77 in /usr/local/lib/python3.12/dist-packages (from torch>=1.10.2->ecoscape-connectivity) (10.3.7.77)\n",
            "Requirement already satisfied: nvidia-cusolver-cu12==11.7.1.2 in /usr/local/lib/python3.12/dist-packages (from torch>=1.10.2->ecoscape-connectivity) (11.7.1.2)\n",
            "Requirement already satisfied: nvidia-cusparse-cu12==12.5.4.2 in /usr/local/lib/python3.12/dist-packages (from torch>=1.10.2->ecoscape-connectivity) (12.5.4.2)\n",
            "Requirement already satisfied: nvidia-cusparselt-cu12==0.7.1 in /usr/local/lib/python3.12/dist-packages (from torch>=1.10.2->ecoscape-connectivity) (0.7.1)\n",
            "Requirement already satisfied: nvidia-nccl-cu12==2.27.3 in /usr/local/lib/python3.12/dist-packages (from torch>=1.10.2->ecoscape-connectivity) (2.27.3)\n",
            "Requirement already satisfied: nvidia-nvtx-cu12==12.6.77 in /usr/local/lib/python3.12/dist-packages (from torch>=1.10.2->ecoscape-connectivity) (12.6.77)\n",
            "Requirement already satisfied: nvidia-nvjitlink-cu12==12.6.85 in /usr/local/lib/python3.12/dist-packages (from torch>=1.10.2->ecoscape-connectivity) (12.6.85)\n",
            "Requirement already satisfied: nvidia-cufile-cu12==1.11.1.6 in /usr/local/lib/python3.12/dist-packages (from torch>=1.10.2->ecoscape-connectivity) (1.11.1.6)\n",
            "Requirement already satisfied: triton==3.4.0 in /usr/local/lib/python3.12/dist-packages (from torch>=1.10.2->ecoscape-connectivity) (3.4.0)\n",
            "Requirement already satisfied: contourpy>=1.0.1 in /usr/local/lib/python3.12/dist-packages (from matplotlib>=3.5.3->scgt>=0.0.32->ecoscape-connectivity) (1.3.3)\n",
            "Requirement already satisfied: cycler>=0.10 in /usr/local/lib/python3.12/dist-packages (from matplotlib>=3.5.3->scgt>=0.0.32->ecoscape-connectivity) (0.12.1)\n",
            "Requirement already satisfied: fonttools>=4.22.0 in /usr/local/lib/python3.12/dist-packages (from matplotlib>=3.5.3->scgt>=0.0.32->ecoscape-connectivity) (4.60.0)\n",
            "Requirement already satisfied: kiwisolver>=1.3.1 in /usr/local/lib/python3.12/dist-packages (from matplotlib>=3.5.3->scgt>=0.0.32->ecoscape-connectivity) (1.4.9)\n",
            "Requirement already satisfied: packaging>=20.0 in /usr/local/lib/python3.12/dist-packages (from matplotlib>=3.5.3->scgt>=0.0.32->ecoscape-connectivity) (25.0)\n",
            "Requirement already satisfied: pillow>=8 in /usr/local/lib/python3.12/dist-packages (from matplotlib>=3.5.3->scgt>=0.0.32->ecoscape-connectivity) (11.3.0)\n",
            "Requirement already satisfied: pyparsing>=2.3.1 in /usr/local/lib/python3.12/dist-packages (from matplotlib>=3.5.3->scgt>=0.0.32->ecoscape-connectivity) (3.2.4)\n",
            "Requirement already satisfied: python-dateutil>=2.7 in /usr/local/lib/python3.12/dist-packages (from matplotlib>=3.5.3->scgt>=0.0.32->ecoscape-connectivity) (2.9.0.post0)\n",
            "Collecting affine (from rasterio>=1.2.10->scgt>=0.0.32->ecoscape-connectivity)\n",
            "  Downloading affine-2.4.0-py3-none-any.whl.metadata (4.0 kB)\n",
            "Requirement already satisfied: attrs in /usr/local/lib/python3.12/dist-packages (from rasterio>=1.2.10->scgt>=0.0.32->ecoscape-connectivity) (25.3.0)\n",
            "Requirement already satisfied: certifi in /usr/local/lib/python3.12/dist-packages (from rasterio>=1.2.10->scgt>=0.0.32->ecoscape-connectivity) (2025.8.3)\n",
            "Requirement already satisfied: click>=4.0 in /usr/local/lib/python3.12/dist-packages (from rasterio>=1.2.10->scgt>=0.0.32->ecoscape-connectivity) (8.2.1)\n",
            "Collecting cligj>=0.5 (from rasterio>=1.2.10->scgt>=0.0.32->ecoscape-connectivity)\n",
            "  Downloading cligj-0.7.2-py3-none-any.whl.metadata (5.0 kB)\n",
            "Collecting click-plugins (from rasterio>=1.2.10->scgt>=0.0.32->ecoscape-connectivity)\n",
            "  Downloading click_plugins-1.1.1.2-py2.py3-none-any.whl.metadata (6.5 kB)\n",
            "Requirement already satisfied: mpmath<1.4,>=1.1.0 in /usr/local/lib/python3.12/dist-packages (from sympy>=1.13.3->torch>=1.10.2->ecoscape-connectivity) (1.3.0)\n",
            "Requirement already satisfied: MarkupSafe>=2.0 in /usr/local/lib/python3.12/dist-packages (from jinja2->torch>=1.10.2->ecoscape-connectivity) (3.0.2)\n",
            "Requirement already satisfied: six>=1.5 in /usr/local/lib/python3.12/dist-packages (from python-dateutil>=2.7->matplotlib>=3.5.3->scgt>=0.0.32->ecoscape-connectivity) (1.17.0)\n",
            "Downloading ecoscape_connectivity-0.2.5-py3-none-any.whl (19 kB)\n",
            "Downloading scgt-0.0.32-py3-none-any.whl (13 kB)\n",
            "Downloading rasterio-1.4.3-cp312-cp312-manylinux_2_17_x86_64.manylinux2014_x86_64.whl (22.3 MB)\n",
            "\u001b[2K   \u001b[90m━━━━━━━━━━━━━━━━━━━━━━━━━━━━━━━━━━━━━━━━\u001b[0m \u001b[32m22.3/22.3 MB\u001b[0m \u001b[31m110.8 MB/s\u001b[0m eta \u001b[36m0:00:00\u001b[0m\n",
            "\u001b[?25hDownloading cligj-0.7.2-py3-none-any.whl (7.1 kB)\n",
            "Downloading affine-2.4.0-py3-none-any.whl (15 kB)\n",
            "Downloading click_plugins-1.1.1.2-py2.py3-none-any.whl (11 kB)\n",
            "Installing collected packages: cligj, click-plugins, affine, rasterio, scgt, ecoscape-connectivity\n",
            "Successfully installed affine-2.4.0 click-plugins-1.1.1.2 cligj-0.7.2 ecoscape-connectivity-0.2.5 rasterio-1.4.3 scgt-0.0.32\n"
          ]
        }
      ],
      "source": [
        "!pip install ecoscape-connectivity"
      ]
    },
    {
      "cell_type": "code",
      "execution_count": 5,
      "metadata": {
        "id": "TyvHVB1ywII7"
      },
      "outputs": [],
      "source": [
        "from ecoscape_connectivity import compute_connectivity\n",
        "from ecoscape_connectivity.util import read_transmission_csv"
      ]
    },
    {
      "cell_type": "code",
      "execution_count": 6,
      "metadata": {
        "id": "zRfsfQtkurcS"
      },
      "outputs": [],
      "source": [
        "# Gender choice.\n",
        "GENDERS = \"mal\", \"fem\"\n",
        "FULL_GENDERS = \"male\", \"female\"\n",
        "\n",
        "# Define base repo directory and data version\n",
        "REPO_DIR = \"/content/puma_permeability_calibration\"\n",
        "DATA_VERSION = \"2025-09-25\"  # update to whichever data version you created in R\n"
      ]
    },
    {
      "cell_type": "markdown",
      "metadata": {
        "id": "4yaJHT2zurcT"
      },
      "source": [
        "## Connectivity and Flow functions"
      ]
    },
    {
      "cell_type": "code",
      "execution_count": 10,
      "metadata": {
        "id": "jUrw0AfNurcT"
      },
      "outputs": [],
      "source": [
        "def do_conn_and_flow(gender, full_gender):\n",
        "    # Input layers and information.\n",
        "    # Get all permeability raster files\n",
        "\n",
        "    perm_file_pattern = os.path.join(REPO_DIR, f\"rasters_for_collab/{DATA_VERSION}/perm_rasters_{full_gender}/permeability_*_{gender}*.tif\")\n",
        "    perm_file_incl = f\"_{gender}_raw\"\n",
        "    perm_file_incl_ = perm_file_incl + \"_\"\n",
        "\n",
        "    permeability_files = glob.glob(perm_file_pattern)\n",
        "    # Parameters\n",
        "    gap_crossing = 0 # no gap crossing.\n",
        "    dispersal = 300 # pixel = 300m; how many pumas created how many pixels; how far they can go (this is length of raster)\n",
        "    # make it too big and cannot compute the flow; Luca usually uses 100\n",
        "    permeability_scaling = 10 / dispersal\n",
        "    # Parameters that you should change only with care\n",
        "    num_simulations = 1000 # Number of simulations to average (at least 1k); bump up if needed\n",
        "    seed_density = 10 # increased from 4 just to see\n",
        "\n",
        "    # Parameters for computation.\n",
        "    tile_size = 1024\n",
        "    tile_border = dispersal # should match dispersal\n",
        "\n",
        "    # Define output directory\n",
        "    output_dir = os.path.join(f\"/content/output/flow_output_{full_gender}\")\n",
        "\n",
        "    # Create the directory if it doesn't exist\n",
        "    os.makedirs(output_dir, exist_ok=True)\n",
        "\n",
        "    # Get all permeability raster files\n",
        "    permeability_files = glob.glob(perm_file_pattern)\n",
        "\n",
        "    # Loop through each permeability file\n",
        "    for permeability_fn in permeability_files:\n",
        "        # Extract personality type from filename\n",
        "        file_only = os.path.basename(permeability_fn)  # this will just be 'permeability_high_fem_raw.tif'\n",
        "        base_name = file_only.split(\"permeability_\")[1].split(perm_file_incl)[0]  # yields 'high'\n",
        "\n",
        "        # Check if filename contains year and scenario\n",
        "        if perm_file_incl_ in permeability_fn:\n",
        "            year_scenario = permeability_fn.split(perm_file_incl_)[1].replace(\".tif\", \"\")\n",
        "        else:\n",
        "            year_scenario = \"current\"\n",
        "\n",
        "        # Define output filenames\n",
        "        connectivity_fn = os.path.join(output_dir, f\"connectivity_{base_name}_{year_scenario}.tif\")\n",
        "        flow_fn = os.path.join(output_dir, f\"flow_{base_name}_{year_scenario}.tif\")\n",
        "\n",
        "        print(f\"Processing: {base_name}, Scenario: {year_scenario}\")\n",
        "\n",
        "        # Run the function\n",
        "        compute_connectivity(\n",
        "            habitat_fn=None,\n",
        "            permeability_fn=permeability_fn,\n",
        "            permeability_scaling=permeability_scaling,\n",
        "            connectivity_fn=connectivity_fn,\n",
        "            flow_fn=flow_fn,\n",
        "            gap_crossing=gap_crossing,\n",
        "            dispersal=dispersal,\n",
        "            num_simulations=num_simulations,\n",
        "            seed_density=seed_density,\n",
        "            tile_size=tile_size,\n",
        "            border_size=tile_border,\n",
        "            padding_size=tile_border,\n",
        "            repopulation_only_in_habitat=False,\n",
        "        )\n",
        "\n",
        "        print(f\"Saved to: {connectivity_fn}, {flow_fn}\")\n"
      ]
    },
    {
      "cell_type": "code",
      "execution_count": 11,
      "metadata": {
        "colab": {
          "base_uri": "https://localhost:8080/"
        },
        "id": "z8IiYPbMurcU",
        "outputId": "ed0b7a31-1ae0-4c76-b9c8-9b55bf67a140"
      },
      "outputs": [
        {
          "output_type": "stream",
          "name": "stdout",
          "text": [
            "=== FEMALES ===\n",
            "Processing: mix, Scenario: current\n",
            "Saved to: /content/output/flow_output_female/connectivity_mix_current.tif, /content/output/flow_output_female/flow_mix_current.tif\n",
            "Processing: high, Scenario: current\n",
            "Saved to: /content/output/flow_output_female/connectivity_high_current.tif, /content/output/flow_output_female/flow_high_current.tif\n",
            "Processing: low, Scenario: current\n",
            "Saved to: /content/output/flow_output_female/connectivity_low_current.tif, /content/output/flow_output_female/flow_low_current.tif\n",
            "=== MALES ===\n"
          ]
        }
      ],
      "source": [
        "# Choose here what to run.\n",
        "print(\"=== FEMALES ===\")\n",
        "do_conn_and_flow(\"fem\", \"female\")\n",
        "\n",
        "print(\"=== MALES ===\")\n",
        "do_conn_and_flow(\"mal\", \"male\")\n"
      ]
    },
    {
      "cell_type": "markdown",
      "source": [
        "# **Download results in a zip file**"
      ],
      "metadata": {
        "id": "qyG1wEEWVPea"
      }
    },
    {
      "cell_type": "code",
      "execution_count": 16,
      "metadata": {
        "id": "A9XRk00surcU",
        "colab": {
          "base_uri": "https://localhost:8080/",
          "height": 180
        },
        "outputId": "a6dab908-76a9-4d4d-a74a-29a786b369d2"
      },
      "outputs": [
        {
          "output_type": "stream",
          "name": "stdout",
          "text": [
            "  adding: content/output/ (stored 0%)\n",
            "  adding: content/output/flow_output_female/ (stored 0%)\n",
            "  adding: content/output/flow_output_female/flow_high_current.tif (deflated 10%)\n",
            "  adding: content/output/flow_output_female/flow_low_current.tif (deflated 11%)\n",
            "  adding: content/output/flow_output_female/flow_mix_current.tif (deflated 11%)\n",
            "  adding: content/output/flow_output_female/connectivity_mix_current.tif (deflated 9%)\n",
            "  adding: content/output/flow_output_female/connectivity_high_current.tif (deflated 9%)\n",
            "  adding: content/output/flow_output_female/connectivity_low_current.tif (deflated 9%)\n"
          ]
        },
        {
          "output_type": "display_data",
          "data": {
            "text/plain": [
              "<IPython.core.display.Javascript object>"
            ],
            "application/javascript": [
              "\n",
              "    async function download(id, filename, size) {\n",
              "      if (!google.colab.kernel.accessAllowed) {\n",
              "        return;\n",
              "      }\n",
              "      const div = document.createElement('div');\n",
              "      const label = document.createElement('label');\n",
              "      label.textContent = `Downloading \"${filename}\": `;\n",
              "      div.appendChild(label);\n",
              "      const progress = document.createElement('progress');\n",
              "      progress.max = size;\n",
              "      div.appendChild(progress);\n",
              "      document.body.appendChild(div);\n",
              "\n",
              "      const buffers = [];\n",
              "      let downloaded = 0;\n",
              "\n",
              "      const channel = await google.colab.kernel.comms.open(id);\n",
              "      // Send a message to notify the kernel that we're ready.\n",
              "      channel.send({})\n",
              "\n",
              "      for await (const message of channel.messages) {\n",
              "        // Send a message to notify the kernel that we're ready.\n",
              "        channel.send({})\n",
              "        if (message.buffers) {\n",
              "          for (const buffer of message.buffers) {\n",
              "            buffers.push(buffer);\n",
              "            downloaded += buffer.byteLength;\n",
              "            progress.value = downloaded;\n",
              "          }\n",
              "        }\n",
              "      }\n",
              "      const blob = new Blob(buffers, {type: 'application/binary'});\n",
              "      const a = document.createElement('a');\n",
              "      a.href = window.URL.createObjectURL(blob);\n",
              "      a.download = filename;\n",
              "      div.appendChild(a);\n",
              "      a.click();\n",
              "      div.remove();\n",
              "    }\n",
              "  "
            ]
          },
          "metadata": {}
        },
        {
          "output_type": "display_data",
          "data": {
            "text/plain": [
              "<IPython.core.display.Javascript object>"
            ],
            "application/javascript": [
              "download(\"download_07c17137-f248-45da-b9a1-2b53ad52a242\", \"output.zip\", 8134453)"
            ]
          },
          "metadata": {}
        }
      ],
      "source": [
        "from google.colab import files\n",
        "import os\n",
        "\n",
        "output_dir = \"/content/output\"\n",
        "zip_path = \"/content/output.zip\"\n",
        "\n",
        "# Zip the entire output directory recursively\n",
        "!zip -r {zip_path} {output_dir}\n",
        "\n",
        "# Download the zip file to local machine\n",
        "files.download(zip_path)\n"
      ]
    }
  ],
  "metadata": {
    "accelerator": "GPU",
    "colab": {
      "gpuType": "A100",
      "machine_shape": "hm",
      "provenance": [],
      "include_colab_link": true
    },
    "kernelspec": {
      "display_name": "Python 3",
      "name": "python3"
    },
    "language_info": {
      "codemirror_mode": {
        "name": "ipython",
        "version": 3
      },
      "file_extension": ".py",
      "mimetype": "text/x-python",
      "name": "python",
      "nbconvert_exporter": "python",
      "pygments_lexer": "ipython3",
      "version": "3.13.2"
    }
  },
  "nbformat": 4,
  "nbformat_minor": 0
}